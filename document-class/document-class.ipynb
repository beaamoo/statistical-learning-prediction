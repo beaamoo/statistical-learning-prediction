{
 "cells": [
  {
   "cell_type": "markdown",
   "metadata": {},
   "source": [
    "https://colab.research.google.com/drive/1auK7eNZZCBlCtw3K9WcRrBtMVJOZUYt1?usp=sharing"
   ]
  },
  {
   "cell_type": "markdown",
   "metadata": {},
   "source": [
    "# Text Classification in Medical Transcriptions\n",
    "\n",
    "This project outlines the process of building a text classification model aimed at categorizing medical transcriptions into predefined classes. The task involves several key steps: data loading and analysis, text preprocessing, vectorization using the FastText model, model building, and finally, model testing and evaluation. Given the specialized domain of medical texts, this task addresses unique challenges such as class imbalance, domain-specific vocabulary, and the need for accurate and interpretable results. Decisions made throughout the process, from preprocessing techniques to model selection, are driven by these challenges and the goal of achieving high performance in classifying medical documents."
   ]
  },
  {
   "cell_type": "markdown",
   "metadata": {},
   "source": [
    "### Import Necessary Libraries"
   ]
  },
  {
   "cell_type": "code",
   "execution_count": 239,
   "metadata": {},
   "outputs": [
    {
     "name": "stderr",
     "output_type": "stream",
     "text": [
      "[nltk_data] Downloading package wordnet to\n",
      "[nltk_data]     /Users/bestricemossberg/nltk_data...\n",
      "[nltk_data]   Package wordnet is already up-to-date!\n",
      "[nltk_data] Downloading package stopwords to\n",
      "[nltk_data]     /Users/bestricemossberg/nltk_data...\n",
      "[nltk_data]   Package stopwords is already up-to-date!\n"
     ]
    },
    {
     "data": {
      "text/plain": [
       "True"
      ]
     },
     "execution_count": 239,
     "metadata": {},
     "output_type": "execute_result"
    }
   ],
   "source": [
    "# Importing required libraries\n",
    "import pandas as pd\n",
    "import numpy as np\n",
    "import nltk\n",
    "import re\n",
    "import matplotlib.pyplot as plt\n",
    "from nltk.stem import WordNetLemmatizer\n",
    "from nltk.corpus import stopwords\n",
    "from sklearn.model_selection import train_test_split\n",
    "from sklearn.utils import shuffle\n",
    "from sklearn.utils.class_weight import compute_class_weight\n",
    "from sklearn.metrics import classification_report, accuracy_score\n",
    "from sklearn.preprocessing import LabelEncoder\n",
    "from keras.models import Sequential\n",
    "from keras.layers import Dense, LSTM, Embedding\n",
    "from keras.preprocessing.text import Tokenizer\n",
    "from keras.preprocessing.sequence import pad_sequences\n",
    "from keras.initializers import Constant\n",
    "from keras.callbacks import EarlyStopping\n",
    "import fasttext\n",
    "\n",
    "# Download necessary NLTK resources for text processing\n",
    "nltk.download('wordnet')  # For lemmatization\n",
    "nltk.download('stopwords')  # For stop words removal"
   ]
  },
  {
   "cell_type": "markdown",
   "metadata": {},
   "source": [
    "## Step 1: Data Loading and Analysis\n",
    "\n",
    "Loading involves reading these datasets and understanding their structure, distribution of classes, and peculiarities of the medical language used in the texts.\n",
    "\n",
    "- `mtsamples.csv`: Scraped from transcribed medical transcription sample reports and examples\n",
    "- `clinical-stopwords.txt`: compilation of stop words\n",
    "- `vocab.txt`: Generated vocabulary text files for NLP using Systemized nomenclature of medicine international data\n",
    "- `X.csv`: Fully processed datadet simplified dataset to 4 classes\n",
    "- `classes.txt`: Text file describing dataset's classes: Surgery, Medical Records, Internal Medicine and Other\n",
    "- `train.csv`: Training data subset. Contains 90% of the X-csv processed file\n",
    "- `test.csv`: Test data subset. Contains 10% of the X-csv processed file"
   ]
  },
  {
   "cell_type": "code",
   "execution_count": 238,
   "metadata": {},
   "outputs": [
    {
     "name": "stdout",
     "output_type": "stream",
     "text": [
      "Loaded 4999 medical transcriptions.\n",
      "Train dataset size: 4499\n",
      "Test dataset size: 500\n",
      "Classes: ['Surgery', 'Medical Records', 'Internal Medicine', 'Other']\n",
      "Number of medical stop words: 818\n",
      "Number of medical vocabulary words: 55887\n",
      "\n",
      "Class distribution in training data:\n",
      "1    1442\n",
      "2    1126\n",
      "3    1040\n",
      "4     891\n",
      "Name: label, dtype: int64\n",
      "\n",
      "Missing medical-specific stop words from NLTK's list: 689\n"
     ]
    }
   ],
   "source": [
    "# Load medical transcription samples\n",
    "mt_samples = pd.read_csv('mtsamples.csv')\n",
    "print(f\"Loaded {len(mt_samples)} medical transcriptions.\")\n",
    "\n",
    "# Load training and testing datasets\n",
    "train = pd.read_csv('train.csv')\n",
    "test = pd.read_csv('test.csv')\n",
    "X = pd.read_csv('X.csv')  # Assuming this is preprocessed or feature data\n",
    "print(f\"Train dataset size: {len(train)}\")\n",
    "print(f\"Test dataset size: {len(test)}\")\n",
    "\n",
    "# -----------------------------\n",
    "# Load Supplementary Information\n",
    "# -----------------------------\n",
    "\n",
    "# Load class labels\n",
    "with open('classes.txt', 'r') as file:\n",
    "    classes = file.read().splitlines()\n",
    "print(f\"Classes: {classes}\")\n",
    "\n",
    "# Load clinical stop words\n",
    "with open('clinical-stopwords.txt', 'r') as file:\n",
    "    medical_stop_words = [line.strip() for line in file if line.strip() and not line.startswith('#')]\n",
    "print(f\"Number of medical stop words: {len(medical_stop_words)}\")\n",
    "\n",
    "# Load vocabulary\n",
    "with open('vocab.txt', 'r') as file:\n",
    "    vocabulary = set(line.strip().lower() for line in file if line.strip())  # Ensure uniqueness and standardize casing\n",
    "vocabulary = list(vocabulary)  # Convert set to list for later processing\n",
    "print(f\"Number of medical vocabulary words: {len(vocabulary)}\")\n",
    "\n",
    "# -----------------------------\n",
    "# Data Analysis Section\n",
    "# -----------------------------\n",
    "\n",
    "# Checking for class imbalance in the training dataset\n",
    "label_counts = train['label'].value_counts()\n",
    "print(\"\\nClass distribution in training data:\")\n",
    "print(label_counts)\n",
    "\n",
    "# -----------------------------\n",
    "# Analyzing Stop Words\n",
    "# -----------------------------\n",
    "\n",
    "# Load English stop words from NLTK\n",
    "stop_words = set(stopwords.words('english'))\n",
    "\n",
    "# Identify medical stop words not included in the generic English stop words\n",
    "missing_stop_words = [term for term in medical_stop_words if term not in stop_words]\n",
    "print(f\"\\nMissing medical-specific stop words from NLTK's list: {len(missing_stop_words)}\")\n"
   ]
  },
  {
   "cell_type": "markdown",
   "metadata": {},
   "source": [
    "## Step 2: Data Preprocessing\n",
    "\n",
    "Preprocessing aims to normalize the text data, making it suitable for machine learning models. This includes:\n",
    "\n",
    "- Updating the stop words set with domain-specific terms.\n",
    "- Balancing the classes through oversampling to address class imbalance.\n",
    "- Lemmatizing the text and removing numbers and punctuation to reduce the complexity of the text data.\n",
    "\n",
    "These steps are crucial for reducing model bias towards more frequent classes and improving the model's ability to learn from a cleaner, more uniform set of texts."
   ]
  },
  {
   "cell_type": "code",
   "execution_count": 241,
   "metadata": {},
   "outputs": [],
   "source": [
    "#Update stop words set\n",
    "stop_words.update(missing_stop_words)\n",
    "\n",
    "# Shuffle the DataFrame\n",
    "train = shuffle(train, random_state=42)\n",
    "\n",
    "# Balance classes by oversampling minority classes\n",
    "max_class_size = train['label'].value_counts().max()  # Find the largest class size\n",
    "# Oversample each class to match the largest class size\n",
    "balanced_train = pd.concat([df.sample(n=max_class_size, replace=True, random_state=42) \n",
    "                            for _, df in train.groupby('label')])\n",
    "balanced_train = shuffle(balanced_train, random_state=42)  # Shuffle to mix class samples\n",
    "\n",
    "# Initialize the lemmatizer\n",
    "lemmatizer = WordNetLemmatizer()\n",
    "\n",
    "def preprocess_text(text):\n",
    "    \"\"\"Preprocess the text by lowering case, removing numbers/punctuation, and lemmatizing.\"\"\"\n",
    "    text = text.lower().replace('\\d+', '').replace('[^\\w\\s]', '')\n",
    "    return ' '.join(lemmatizer.lemmatize(word) for word in text.split() if word not in stop_words)\n",
    "\n",
    "# Preprocess text data\n",
    "preprocessed_train_texts = [preprocess_text(text) for text in balanced_train['text']]\n",
    "preprocessed_test_texts = [preprocess_text(text) for text in test['text']]\n",
    "\n",
    "# Encode labels\n",
    "label_encoder = LabelEncoder()\n",
    "train_labels = label_encoder.fit_transform(balanced_train['label'])\n",
    "test_labels = label_encoder.transform(test['label'])\n",
    "\n",
    "# Split data into training and validation sets\n",
    "X_train, X_val, y_train, y_val = train_test_split(preprocessed_train_texts, train_labels, test_size=0.2, random_state=42)"
   ]
  },
  {
   "cell_type": "markdown",
   "metadata": {},
   "source": [
    "## Step 3: Vectorization Strategy\n",
    "\n",
    "The choice of FastText for vectorization in this project is driven by a critical analysis of the challenges presented by medical texts. A significant challenge in processing medical texts is the presence of out-of-vocabulary (OOV) words, which are not uncommon given the specialized terminology of the medical field. For instance, it was found that a conventional Word2Vec model lacked representations for 35,930 of the medical vocabulary terms in `vocab.txt`, a substantial number that could severely impact the model's performance by failing to understand or accurately represent a wide array of medical terms.\n",
    "\n",
    "FastText addresses this challenge by leveraging subword information, meaning it can generate embeddings for words not seen during training by considering the embeddings of subword units (e.g., prefixes, suffixes, and other character n-grams). This approach is especially advantageous for medical texts, characterized by complex terminologies, compound words, and frequent use of prefixes and suffixes. By training the FastText model on a medical corpus, we ensure that the vector representations are not only contextually relevant but also capable of handling words that are not explicitly present in the training data."
   ]
  },
  {
   "cell_type": "code",
   "execution_count": 242,
   "metadata": {},
   "outputs": [],
   "source": [
    "# Load the medical transcriptions\n",
    "mtsamples = pd.read_csv('mtsamples.csv')\n",
    "\n",
    "# Assuming 'mtsamples' is your DataFrame and it has a column named 'text'\n",
    "corpus_filename = 'medical_corpus.txt'\n",
    "with open(corpus_filename, 'w', encoding='utf-8') as corpus_file:\n",
    "    for text in mtsamples['transcription']:\n",
    "        # Optionally preprocess the text (e.g., lowercasing)\n",
    "        processed_text = str(text).replace('\\n', ' ').replace('\\r', ' ').lower()\n",
    "        # Write each text entry to the file, one per line\n",
    "        corpus_file.write(processed_text + '\\n')"
   ]
  },
  {
   "cell_type": "code",
   "execution_count": 123,
   "metadata": {},
   "outputs": [
    {
     "name": "stderr",
     "output_type": "stream",
     "text": [
      "Read 2M words\n",
      "Number of words:  22042\n",
      "Number of labels: 0\n",
      "Progress: 100.0% words/sec/thread:   84529 lr:  0.000000 avg.loss:  1.699793 ETA:   0h 0m 0s\n"
     ]
    }
   ],
   "source": [
    "# Train the FastText model\n",
    "ft_model = fasttext.train_unsupervised('medical_corpus.txt', model='skipgram', dim=100, wordNgrams=2)\n",
    "ft_model.save_model(\"fasttext_model.bin\")"
   ]
  },
  {
   "cell_type": "code",
   "execution_count": 220,
   "metadata": {},
   "outputs": [
    {
     "name": "stdout",
     "output_type": "stream",
     "text": [
      "Number of words not well-represented: 283\n",
      "Some words not well-represented: ['e5', 'tg', 'f0', 'cfu', 'lw', '5x', 'b4', 'ln', 'cw8', 'o9']\n"
     ]
    }
   ],
   "source": [
    "# Check if the vocabulary words are well-represented in the FastText model\n",
    "def check_word_representation(model, word, threshold=0.5):\n",
    "    # Attempt to retrieve the nearest neighbors for the word\n",
    "    neighbors = model.get_nearest_neighbors(word, k=1)\n",
    "    # If the nearest neighbor's similarity is high, it suggests the word is well-represented\n",
    "    if neighbors and neighbors[0][0] > threshold:\n",
    "        return True\n",
    "    return False\n",
    "\n",
    "# Check each word in the domain vocabulary\n",
    "covered_words = {word: check_word_representation(ft_model, word) for word in vocabulary}\n",
    "\n",
    "# Words not well-represented might have no or low-similarity neighbors\n",
    "not_covered_words = [word for word, is_covered in covered_words.items() if not is_covered]\n",
    "\n",
    "print(f\"Number of words not well-represented: {len(not_covered_words)}\")\n",
    "print(\"Some words not well-represented:\", not_covered_words[:10])  # Display the first 10"
   ]
  },
  {
   "cell_type": "markdown",
   "metadata": {},
   "source": [
    "## Step 4: Model Building\n",
    "\n",
    "- **Tokenization & Padding**: Texts are tokenized with a cap of 5,000 words using Keras' `Tokenizer`, incorporating an `OOV` token for unseen words. Sequences are padded to a fixed length of 100 for uniform input.\n",
    "- **Embedding Layer**: Initialized with FastText vectors (100-dimensional) to leverage semantic word relationships and subword information, enhancing the model's capability to handle out-of-vocabulary terms. This layer is set as trainable to fine-tune embeddings during training.\n",
    "- **LSTM Layers**: Two LSTM layers with 64 units each process the text sequentially, capturing long-term dependencies and context within the text. The first LSTM layer returns sequences to the next, ensuring deep contextual representation.\n",
    "- **Dense Output Layer**: Utilizes softmax activation to classify texts into predefined categories based on the LSTM output.\n",
    "- **Compilation and Training**: Compiled with Adam optimizer and sparse categorical cross-entropy loss. Class weights are applied to address class imbalance, and early stopping is used to prevent overfitting. Training is conducted over 30 epochs with a batch size of 16, using validation data for performance monitoring.\n",
    "\n",
    "This succinct model design integrates pre-trained embeddings with sequential processing via LSTM to effectively classify complex medical texts.\n"
   ]
  },
  {
   "cell_type": "code",
   "execution_count": 243,
   "metadata": {},
   "outputs": [
    {
     "name": "stdout",
     "output_type": "stream",
     "text": [
      "Model: \"sequential_47\"\n",
      "_________________________________________________________________\n",
      " Layer (type)                Output Shape              Param #   \n",
      "=================================================================\n",
      " embedding_21 (Embedding)    (None, 100, 100)          2100300   \n",
      "                                                                 \n",
      " lstm_31 (LSTM)              (None, 100, 64)           42240     \n",
      "                                                                 \n",
      " lstm_32 (LSTM)              (None, 64)                33024     \n",
      "                                                                 \n",
      " dense_121 (Dense)           (None, 4)                 260       \n",
      "                                                                 \n",
      "=================================================================\n",
      "Total params: 2175824 (8.30 MB)\n",
      "Trainable params: 2175824 (8.30 MB)\n",
      "Non-trainable params: 0 (0.00 Byte)\n",
      "_________________________________________________________________\n",
      "Epoch 1/30\n",
      "289/289 [==============================] - 19s 50ms/step - loss: 1.0147 - accuracy: 0.5163 - val_loss: 0.8174 - val_accuracy: 0.6213\n",
      "Epoch 2/30\n",
      "289/289 [==============================] - 14s 48ms/step - loss: 0.6864 - accuracy: 0.7039 - val_loss: 0.6703 - val_accuracy: 0.7123\n",
      "Epoch 3/30\n",
      "289/289 [==============================] - 14s 49ms/step - loss: 0.4217 - accuracy: 0.8255 - val_loss: 0.4319 - val_accuracy: 0.8328\n",
      "Epoch 4/30\n",
      "289/289 [==============================] - 13s 46ms/step - loss: 0.3218 - accuracy: 0.8708 - val_loss: 0.3597 - val_accuracy: 0.8761\n",
      "Epoch 5/30\n",
      "289/289 [==============================] - 12s 43ms/step - loss: 0.2729 - accuracy: 0.8888 - val_loss: 0.3743 - val_accuracy: 0.8648\n",
      "Epoch 6/30\n",
      "289/289 [==============================] - 14s 48ms/step - loss: 0.2229 - accuracy: 0.9057 - val_loss: 0.3429 - val_accuracy: 0.8700\n",
      "Epoch 7/30\n",
      "289/289 [==============================] - 14s 49ms/step - loss: 0.2079 - accuracy: 0.9124 - val_loss: 0.3263 - val_accuracy: 0.8769\n",
      "Epoch 8/30\n",
      "289/289 [==============================] - 13s 47ms/step - loss: 0.1971 - accuracy: 0.9109 - val_loss: 0.3439 - val_accuracy: 0.8865\n",
      "Epoch 9/30\n",
      "289/289 [==============================] - 13s 46ms/step - loss: 0.1920 - accuracy: 0.9176 - val_loss: 0.3213 - val_accuracy: 0.8813\n",
      "Epoch 10/30\n",
      "289/289 [==============================] - 13s 46ms/step - loss: 0.1661 - accuracy: 0.9218 - val_loss: 0.3295 - val_accuracy: 0.8847\n",
      "Epoch 11/30\n",
      "289/289 [==============================] - 13s 46ms/step - loss: 0.1568 - accuracy: 0.9239 - val_loss: 0.3558 - val_accuracy: 0.8804\n"
     ]
    }
   ],
   "source": [
    "# Constants\n",
    "NUM_WORDS = 5000\n",
    "MAXLEN = 100\n",
    "EPOCHS = 30\n",
    "BATCH_SIZE = 16  # Adjust based on your system's capability and dataset size\n",
    "\n",
    "# Prepare the tokenizer\n",
    "tokenizer = Tokenizer(num_words=NUM_WORDS, oov_token='OOV')\n",
    "tokenizer.fit_on_texts(X_train)\n",
    "\n",
    "# Texts to sequences and padding\n",
    "X_train_seq = pad_sequences(tokenizer.texts_to_sequences(X_train), maxlen=MAXLEN, padding='post')\n",
    "X_val_seq = pad_sequences(tokenizer.texts_to_sequences(X_val), maxlen=MAXLEN, padding='post')\n",
    "X_test_seq = pad_sequences(tokenizer.texts_to_sequences(preprocessed_test_texts), maxlen=MAXLEN, padding='post')\n",
    "\n",
    "# Create an embedding matrix\n",
    "embedding_matrix = np.zeros((len(tokenizer.word_index) + 1, 100))  # Assuming 100 is the dimension of FastText vectors\n",
    "for word, i in tokenizer.word_index.items():\n",
    "    embedding_vector = ft_model.get_word_vector(word)\n",
    "    if embedding_vector is not None:\n",
    "        embedding_matrix[i] = embedding_vector\n",
    "\n",
    "# Define the model architecture\n",
    "model = Sequential([\n",
    "    Embedding(input_dim=len(tokenizer.word_index) + 1, output_dim=100, embeddings_initializer=Constant(embedding_matrix), input_length=MAXLEN, trainable=True),\n",
    "    LSTM(64, return_sequences=True),\n",
    "    LSTM(64),\n",
    "    Dense(len(classes), activation='softmax')\n",
    "])\n",
    "\n",
    "model.compile(loss='sparse_categorical_crossentropy', optimizer='adam', metrics=['accuracy'])\n",
    "model.summary()\n",
    "\n",
    "# Compute class weights\n",
    "class_weights = compute_class_weight('balanced', classes=np.unique(y_train), y=y_train)\n",
    "class_weight_dict = dict(enumerate(class_weights))\n",
    "\n",
    "# Early stopping callback\n",
    "early_stopping = EarlyStopping(monitor='val_accuracy', patience=3, restore_best_weights=True)\n",
    "\n",
    "# Train the model with class weights and early stopping\n",
    "history = model.fit(X_train_seq, y_train, epochs=EPOCHS, batch_size=BATCH_SIZE, validation_data=(X_val_seq, y_val), verbose=1, class_weight=class_weight_dict, callbacks=[early_stopping])\n"
   ]
  },
  {
   "cell_type": "markdown",
   "metadata": {},
   "source": [
    "## Step 5: Testing and Evaluating the Model\n",
    "\n",
    "The final step involves evaluating the model on a held-out test set. The performance is assessed using metrics such as accuracy, precision, recall, and F1-score. These metrics provide a comprehensive view of the model's performance, highlighting its strengths and areas for improvement. The evaluation process also includes handling class imbalance with weighted metrics to ensure fairness and accuracy in the model's predictive ability across all classes."
   ]
  },
  {
   "cell_type": "code",
   "execution_count": 246,
   "metadata": {},
   "outputs": [
    {
     "name": "stdout",
     "output_type": "stream",
     "text": [
      "16/16 [==============================] - 0s 14ms/step\n",
      "Accuracy: 0.822\n",
      "              precision    recall  f1-score   support\n",
      "\n",
      "           0       0.93      0.93      0.93       198\n",
      "           1       0.67      0.76      0.71       102\n",
      "           2       0.84      0.74      0.79       109\n",
      "           3       0.76      0.74      0.75        91\n",
      "\n",
      "    accuracy                           0.82       500\n",
      "   macro avg       0.80      0.79      0.80       500\n",
      "weighted avg       0.83      0.82      0.82       500\n",
      "\n"
     ]
    }
   ],
   "source": [
    "# Make predictions\n",
    "predictions = model.predict(X_test_seq, verbose=1)\n",
    "# Convert predictions to label indices (the highest probability class for each sample)\n",
    "predicted_labels = np.argmax(predictions, axis=1)\n",
    "\n",
    "# Calculate Accuracy, Precision, Recall, and F1-Score\n",
    "print(\"Accuracy:\", accuracy_score(test_labels, predicted_labels))\n",
    "print(classification_report(test_labels, predicted_labels))"
   ]
  },
  {
   "cell_type": "code",
   "execution_count": 247,
   "metadata": {},
   "outputs": [
    {
     "data": {
      "image/png": "[encoded data removed]",
      "text/plain": [
       "<Figure size 640x480 with 1 Axes>"
      ]
     },
     "metadata": {},
     "output_type": "display_data"
    },
    {
     "data": {
      "image/png": "[encoded data removed]",
      "text/plain": [
       "<Figure size 640x480 with 1 Axes>"
      ]
     },
     "metadata": {},
     "output_type": "display_data"
    }
   ],
   "source": [
    "# Plot the training and validation accuracy\n",
    "plt.plot(history.history['accuracy'])\n",
    "plt.plot(history.history['val_accuracy'])\n",
    "plt.title('Model accuracy')\n",
    "plt.ylabel('Accuracy')\n",
    "plt.xlabel('Epoch')\n",
    "plt.legend(['Train', 'Validation'], loc='upper left')\n",
    "\n",
    "# Display the plots\n",
    "plt.show()\n",
    "\n",
    "# Plot the training and validation loss\n",
    "plt.plot(history.history['loss'])\n",
    "plt.plot(history.history['val_loss'])\n",
    "plt.title('Model loss')\n",
    "plt.ylabel('Loss')\n",
    "plt.xlabel('Epoch')\n",
    "plt.legend(['Train', 'Validation'], loc='upper left')\n",
    "\n",
    "# Display the plots\n",
    "plt.show()\n"
   ]
  },
  {
   "cell_type": "markdown",
   "metadata": {},
   "source": [
    "## Conclusion\n",
    "\n",
    "In conclusion, the project successfully demonstrates the creation and application of a neural network model that leverages FastText embeddings and LSTM layers to address the complexities of classifying medical texts. By employing a tailored preprocessing pipeline, initializing the model with domain-specific vector representations, and carefully designing the neural architecture, we achieved a robust system capable of understanding and categorizing clinical narratives with high accuracy. The model's design, which includes handling class imbalance and optimizing for out-of-vocabulary words, ensures it is well-suited to the nuances of medical language. This approach sets a solid foundation for future advancements in automated medical text classification, offering a promising avenue for enhancing the efficiency and accuracy of processing clinical documentation."
   ]
  },
  {
   "cell_type": "markdown",
   "metadata": {},
   "source": [
    "*Final note*: Went from an accuracy of 30% to 82% 🥳🥳🥳"
   ]
  },
  {
   "cell_type": "markdown",
   "metadata": {},
   "source": []
  }
 ],
 "metadata": {
  "kernelspec": {
   "display_name": "venv",
   "language": "python",
   "name": "python3"
  },
  "language_info": {
   "codemirror_mode": {
    "name": "ipython",
    "version": 3
   },
   "file_extension": ".py",
   "mimetype": "text/x-python",
   "name": "python",
   "nbconvert_exporter": "python",
   "pygments_lexer": "ipython3",
   "version": "3.9.6"
  }
 },
 "nbformat": 4,
 "nbformat_minor": 2
}
